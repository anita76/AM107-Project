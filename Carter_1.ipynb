{
 "cells": [
  {
   "cell_type": "code",
   "execution_count": 35,
   "metadata": {},
   "outputs": [],
   "source": [
    "import numpy as np\n",
    "import matplotlib.pyplot as plt\n",
    "import pandas\n",
    "from keras.models import Sequential\n",
    "from keras.layers import Dense\n",
    "from keras.wrappers.scikit_learn import KerasClassifier\n",
    "from keras.utils import np_utils\n",
    "from sklearn.model_selection import cross_val_score\n",
    "from sklearn.model_selection import StratifiedKFold\n",
    "from sklearn.model_selection import KFold\n",
    "from sklearn.preprocessing import LabelEncoder\n",
    "from sklearn.pipeline import Pipeline\n",
    "from keras.utils import to_categorical "
   ]
  },
  {
   "cell_type": "code",
   "execution_count": 32,
   "metadata": {},
   "outputs": [],
   "source": [
    "# Generate a toy dataset for classification\n",
    "samples = 100\n",
    "class_0 = np.random.multivariate_normal([-.5, -.5], .5 * np.eye(2), samples)\n",
    "class_1 = np.random.multivariate_normal([.5, .5], .5 * np.eye(2), samples)\n",
    "x = np.vstack((class_0, class_1))\n",
    "y = np.array([0] * 100 + [1] * 100)"
   ]
  },
  {
   "cell_type": "code",
   "execution_count": 53,
   "metadata": {},
   "outputs": [
    {
     "name": "stdout",
     "output_type": "stream",
     "text": [
      "Epoch 1/10\n",
      "7/7 [==============================] - 0s 914us/step - loss: 0.6438 - accuracy: 0.7600\n",
      "Epoch 2/10\n",
      "7/7 [==============================] - 0s 1ms/step - loss: 0.6293 - accuracy: 0.8150\n",
      "Epoch 3/10\n",
      "7/7 [==============================] - 0s 2ms/step - loss: 0.6156 - accuracy: 0.8350\n",
      "Epoch 4/10\n",
      "7/7 [==============================] - 0s 2ms/step - loss: 0.6037 - accuracy: 0.8450\n",
      "Epoch 5/10\n",
      "7/7 [==============================] - 0s 1ms/step - loss: 0.5923 - accuracy: 0.8500\n",
      "Epoch 6/10\n",
      "7/7 [==============================] - 0s 2ms/step - loss: 0.5809 - accuracy: 0.8500\n",
      "Epoch 7/10\n",
      "7/7 [==============================] - 0s 1ms/step - loss: 0.5688 - accuracy: 0.8450\n",
      "Epoch 8/10\n",
      "7/7 [==============================] - 0s 2ms/step - loss: 0.5568 - accuracy: 0.8500\n",
      "Epoch 9/10\n",
      "7/7 [==============================] - 0s 2ms/step - loss: 0.5442 - accuracy: 0.8500\n",
      "Epoch 10/10\n",
      "7/7 [==============================] - 0s 2ms/step - loss: 0.5311 - accuracy: 0.8450\n"
     ]
    }
   ],
   "source": [
    "y_cat = to_categorical(y)\n",
    "# create model\n",
    "# https://machinelearningmastery.com/binary-classification-tutorial-with-the-keras-deep-learning-library/\n",
    "model = Sequential()\n",
    "model.add(Dense(16, input_dim=2, activation='relu'))\n",
    "model.add(Dense(4, activation='relu'))\n",
    "model.add(Dense(2, activation='softmax'))\n",
    "# Compile model\n",
    "model.compile(loss='binary_crossentropy', optimizer='adam', metrics=['accuracy'])\n",
    "model.fit(x, y_cat, epochs = 10, verbose = 1);"
   ]
  },
  {
   "cell_type": "code",
   "execution_count": null,
   "metadata": {},
   "outputs": [],
   "source": [
    "# Visualize our test data points\n",
    "fig, ax = plt.subplots(1, 1, figsize=(10, 5))\n",
    "ax.scatter(x[y == 1, 0], x[y == 1, 1], alpha=0.3, color='red', label='class 1')\n",
    "ax.scatter(x[y == 0, 0], x[y == 0, 1], alpha=0.3, color='blue', label='class 0')\n",
    "# Plotting decision regions - https://scikit-learn.org/stable/auto_examples/ensemble/plot_voting_decision_regions.html\n",
    "x_min, x_max = x[:, 0].min() - 1, x[:, 0].max() + 1\n",
    "y_min, y_max = x[:, 1].min() - 1, x[:, 1].max() + 1\n",
    "xx, yy = np.meshgrid(np.arange(x_min, x_max, 0.02),\n",
    "                     np.arange(y_min, y_max, 0.02))\n",
    "Z = model.predict(np.c_[xx.ravel(), yy.ravel()])[:,0]\n",
    "Z = Z.reshape(xx.shape)\n",
    "Z = Z >.5\n",
    "ax.contourf(xx, yy, Z, alpha=0.4)\n",
    "# labels\n",
    "ax.set_xlabel('x_1')\n",
    "ax.set_ylabel('x_2')\n",
    "ax.set_title('toy classification data with test data points')\n",
    "ax.legend(loc='best')\n",
    "plt.show()"
   ]
  },
  {
   "cell_type": "code",
   "execution_count": 70,
   "metadata": {},
   "outputs": [
    {
     "data": {
      "text/plain": [
       "[array([[-0.07477671,  0.14629981,  0.29175043,  0.53102726, -0.31878936,\n",
       "         -0.5769781 ,  0.03163872, -0.21571194, -0.4005302 ,  0.03144066,\n",
       "         -0.32418177, -0.5260415 ,  0.02695856, -0.22489293, -0.42192733,\n",
       "         -0.19186117],\n",
       "        [-0.2464494 ,  0.21801558,  0.11059012, -0.00524846,  0.04305302,\n",
       "          0.01117597,  0.40254942,  0.24508126, -0.6243641 ,  0.5971447 ,\n",
       "         -0.52108526, -0.5727419 , -0.28565708, -0.492268  ,  0.12328506,\n",
       "         -0.2477745 ]], dtype=float32),\n",
       " array([-0.05925097,  0.05211407,  0.06283553,  0.0629601 , -0.04596082,\n",
       "         0.01427127,  0.0663356 , -0.03231831,  0.07206664,  0.04932896,\n",
       "         0.03112092,  0.05501873,  0.00271449, -0.03612828, -0.01298867,\n",
       "         0.05565234], dtype=float32),\n",
       " array([[ 0.409836  , -0.46776325, -0.5107345 , -0.34403914],\n",
       "        [ 0.5377591 ,  0.05549474, -0.33604574,  0.31432694],\n",
       "        [ 0.33235252, -0.43304425,  0.35824096, -0.09056291],\n",
       "        [ 0.47123155,  0.07510846,  0.1870441 , -0.10765018],\n",
       "        [ 0.12568374, -0.22521573, -0.02480063, -0.48219943],\n",
       "        [-0.47804773,  0.33049455, -0.20031014,  0.4144697 ],\n",
       "        [ 0.5122467 , -0.1844714 ,  0.11624441,  0.00859145],\n",
       "        [-0.0047312 , -0.17596944, -0.43074578,  0.26580766],\n",
       "        [ 0.06712076,  0.52663016,  0.15674943,  0.14411066],\n",
       "        [ 0.2707078 ,  0.26486236, -0.35326913, -0.10809212],\n",
       "        [-0.403449  , -0.0104062 , -0.52627665,  0.27671883],\n",
       "        [-0.2879881 ,  0.16846153,  0.43759105, -0.27700445],\n",
       "        [ 0.10499394,  0.16802847, -0.29204807,  0.18190037],\n",
       "        [ 0.41378298,  0.0500445 , -0.20932646, -0.54128283],\n",
       "        [-0.49685493,  0.08992025,  0.09474339, -0.44696057],\n",
       "        [-0.31792772,  0.3202586 , -0.48118484,  0.33251753]],\n",
       "       dtype=float32),\n",
       " array([ 0.06095315,  0.04446042,  0.05832484, -0.0308351 ], dtype=float32),\n",
       " array([[-0.7686784 ,  0.16529314],\n",
       "        [-0.48878074, -0.90875757],\n",
       "        [-0.29346377,  0.3751932 ],\n",
       "        [ 0.83171695, -0.58478254]], dtype=float32),\n",
       " array([ 0.02706701, -0.02706701], dtype=float32)]"
      ]
     },
     "execution_count": 70,
     "metadata": {},
     "output_type": "execute_result"
    }
   ],
   "source": [
    "model.get_weights()"
   ]
  },
  {
   "cell_type": "code",
   "execution_count": 71,
   "metadata": {},
   "outputs": [
    {
     "ename": "AttributeError",
     "evalue": "'Sequential' object has no attribute 'set_params'",
     "output_type": "error",
     "traceback": [
      "\u001b[0;31m---------------------------------------------------------------------------\u001b[0m",
      "\u001b[0;31mAttributeError\u001b[0m                            Traceback (most recent call last)",
      "\u001b[0;32m<ipython-input-71-1d38fae22746>\u001b[0m in \u001b[0;36m<module>\u001b[0;34m\u001b[0m\n\u001b[1;32m      5\u001b[0m \u001b[0;31m# Compile model\u001b[0m\u001b[0;34m\u001b[0m\u001b[0;34m\u001b[0m\u001b[0;34m\u001b[0m\u001b[0m\n\u001b[1;32m      6\u001b[0m \u001b[0mmodel2\u001b[0m\u001b[0;34m.\u001b[0m\u001b[0mcompile\u001b[0m\u001b[0;34m(\u001b[0m\u001b[0mloss\u001b[0m\u001b[0;34m=\u001b[0m\u001b[0;34m'binary_crossentropy'\u001b[0m\u001b[0;34m,\u001b[0m \u001b[0moptimizer\u001b[0m\u001b[0;34m=\u001b[0m\u001b[0;34m'adam'\u001b[0m\u001b[0;34m,\u001b[0m \u001b[0mmetrics\u001b[0m\u001b[0;34m=\u001b[0m\u001b[0;34m[\u001b[0m\u001b[0;34m'accuracy'\u001b[0m\u001b[0;34m]\u001b[0m\u001b[0;34m)\u001b[0m\u001b[0;34m\u001b[0m\u001b[0;34m\u001b[0m\u001b[0m\n\u001b[0;32m----> 7\u001b[0;31m \u001b[0mmodel2\u001b[0m\u001b[0;34m.\u001b[0m\u001b[0mset_params\u001b[0m\u001b[0;34m(\u001b[0m\u001b[0mmodel\u001b[0m\u001b[0;34m.\u001b[0m\u001b[0mget_params\u001b[0m\u001b[0;34m(\u001b[0m\u001b[0;34m)\u001b[0m\u001b[0;34m)\u001b[0m\u001b[0;34m\u001b[0m\u001b[0;34m\u001b[0m\u001b[0m\n\u001b[0m",
      "\u001b[0;31mAttributeError\u001b[0m: 'Sequential' object has no attribute 'set_params'"
     ]
    }
   ],
   "source": [
    "    model2 = Sequential()\n",
    "    model2.add(Dense(16, input_dim=2, activation='relu'))\n",
    "    model2.add(Dense(4, activation='relu'))\n",
    "    model2.add(Dense(2, activation='softmax'))\n",
    "    # Compile model\n",
    "    model2.compile(loss='binary_crossentropy', optimizer='adam', metrics=['accuracy'])\n",
    "    model2.set_params(model.get_params())"
   ]
  },
  {
   "cell_type": "code",
   "execution_count": 86,
   "metadata": {},
   "outputs": [],
   "source": [
    "# random subspace sampler\n",
    "models = []\n",
    "for i in range(10):\n",
    "    model2 = Sequential()\n",
    "    model2.add(Dense(16, input_dim=2, activation='relu'))\n",
    "    model2.add(Dense(4, activation='relu'))\n",
    "    model2.add(Dense(2, activation='softmax'))\n",
    "    # Compile model\n",
    "    model2.compile(loss='binary_crossentropy', optimizer='adam', metrics=['accuracy'])\n",
    "    weights = [model.get_weights()[j] + np.random.normal(size = model.get_weights()[j].shape) for j in range(len(model.get_weights()))]\n",
    "    model2.set_weights(weights)\n",
    "    models.append(model2)"
   ]
  },
  {
   "cell_type": "code",
   "execution_count": null,
   "metadata": {},
   "outputs": [],
   "source": [
    "for i in range(len(test_points)):\n",
    "    pt = test_points[i]\n",
    "    if i == 0:\n",
    "        ax.scatter(pt[0], pt[1], alpha=1., s=50, color='black', label='test data')\n",
    "    else:\n",
    "        ax.scatter(pt[0], pt[1], alpha=1., s=50, color='black')\n",
    "## plot the decision boundary\n",
    "x1 = np.arange(-5,5,.05)\n",
    "ax.plot(x1, (-toymodel.intercept_-toymodel.coef_[0,0]*x1)/toymodel.coef_[0,1], label='decision boundary')"
   ]
  }
 ],
 "metadata": {
  "kernelspec": {
   "display_name": "Python 3",
   "language": "python",
   "name": "python3"
  },
  "language_info": {
   "codemirror_mode": {
    "name": "ipython",
    "version": 3
   },
   "file_extension": ".py",
   "mimetype": "text/x-python",
   "name": "python",
   "nbconvert_exporter": "python",
   "pygments_lexer": "ipython3",
   "version": "3.7.3"
  }
 },
 "nbformat": 4,
 "nbformat_minor": 2
}
